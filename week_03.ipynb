{
 "cells": [
  {
   "cell_type": "code",
   "execution_count": 1,
   "id": "833f1f24-56e0-4607-8c6a-76ee31286fd8",
   "metadata": {},
   "outputs": [
    {
     "name": "stdout",
     "output_type": "stream",
     "text": [
      "*** Introductory Examples for the NLTK Book ***\n",
      "Loading text1, ..., text9 and sent1, ..., sent9\n",
      "Type the name of the text or sentence to view it.\n",
      "Type: 'texts()' or 'sents()' to list the materials.\n",
      "text1: Moby Dick by Herman Melville 1851\n",
      "text2: Sense and Sensibility by Jane Austen 1811\n",
      "text3: The Book of Genesis\n",
      "text4: Inaugural Address Corpus\n",
      "text5: Chat Corpus\n",
      "text6: Monty Python and the Holy Grail\n",
      "text7: Wall Street Journal\n",
      "text8: Personals Corpus\n",
      "text9: The Man Who Was Thursday by G . K . Chesterton 1908\n"
     ]
    },
    {
     "data": {
      "text/plain": [
       "True"
      ]
     },
     "execution_count": 1,
     "metadata": {},
     "output_type": "execute_result"
    }
   ],
   "source": [
    "#nltk book improt\n",
    "import nltk\n",
    "from nltk.book import *\n",
    "nltk.download('book', quiet=True)"
   ]
  },
  {
   "cell_type": "code",
   "execution_count": 2,
   "id": "9a967c0d-2945-4527-a402-6dc9f739cf96",
   "metadata": {},
   "outputs": [],
   "source": [
    "from nltk import book"
   ]
  },
  {
   "cell_type": "markdown",
   "id": "7b6a3f13-93a2-447b-8999-ed35999b190a",
   "metadata": {},
   "source": [
    "# 1. [NLTK] text6에서 pt를 포함하는 단어 리스트를 출력하는 코드를 작성하세요."
   ]
  },
  {
   "cell_type": "code",
   "execution_count": 4,
   "id": "9861c08b-30da-49ec-a159-ffd924a28524",
   "metadata": {},
   "outputs": [
    {
     "data": {
      "text/plain": [
       "['empty',\n",
       " 'aptly',\n",
       " 'Thpppppt',\n",
       " 'Thppt',\n",
       " 'Thppt',\n",
       " 'empty',\n",
       " 'Thppppt',\n",
       " 'temptress',\n",
       " 'temptation',\n",
       " 'ptoo',\n",
       " 'Chapter',\n",
       " 'excepting',\n",
       " 'Thpppt']"
      ]
     },
     "execution_count": 4,
     "metadata": {},
     "output_type": "execute_result"
    }
   ],
   "source": [
    "[word for word in text6 if 'pt' in word]"
   ]
  },
  {
   "cell_type": "code",
   "execution_count": 3,
   "id": "51d04805-34fc-4286-b793-051a831666d3",
   "metadata": {},
   "outputs": [
    {
     "ename": "TypeError",
     "evalue": "'module' object is not iterable",
     "output_type": "error",
     "traceback": [
      "\u001b[0;31m---------------------------------------------------------------------------\u001b[0m",
      "\u001b[0;31mTypeError\u001b[0m                                 Traceback (most recent call last)",
      "\u001b[0;32m/var/folders/6j/qj5mm9r12c13y043t6l3c88m0000gn/T/ipykernel_1015/1595784643.py\u001b[0m in \u001b[0;36m<module>\u001b[0;34m\u001b[0m\n\u001b[0;32m----> 1\u001b[0;31m \u001b[0;32mfor\u001b[0m \u001b[0mtext\u001b[0m \u001b[0;32min\u001b[0m \u001b[0mnltk\u001b[0m\u001b[0;34m:\u001b[0m\u001b[0;34m\u001b[0m\u001b[0;34m\u001b[0m\u001b[0m\n\u001b[0m\u001b[1;32m      2\u001b[0m     \u001b[0mprint\u001b[0m\u001b[0;34m(\u001b[0m\u001b[0mi\u001b[0m\u001b[0;34m)\u001b[0m\u001b[0;34m\u001b[0m\u001b[0;34m\u001b[0m\u001b[0m\n",
      "\u001b[0;31mTypeError\u001b[0m: 'module' object is not iterable"
     ]
    }
   ],
   "source": [
    "for text in nltk:\n",
    "    print(i)"
   ]
  },
  {
   "cell_type": "code",
   "execution_count": null,
   "id": "9e0528d3-632b-4997-b6a1-3c0b165efc80",
   "metadata": {},
   "outputs": [],
   "source": []
  },
  {
   "cell_type": "code",
   "execution_count": 5,
   "id": "16967afc-d4e6-40cb-bc81-af1e0e245ad1",
   "metadata": {},
   "outputs": [],
   "source": [
    "# 질문 ) 전체 코드가 하나의 루프 안에 존재해야함 << 무슨 의미?"
   ]
  },
  {
   "cell_type": "markdown",
   "id": "d027744c-9499-4f70-9bfb-0cdba2e8069e",
   "metadata": {},
   "source": [
    "# 3. 팩토리얼\n",
    "- 팩토리얼이란 다음과 같다.\n",
    "    - 1! = 1 2! = 1 * 2 3! = 1 * 2 * 3 ... n! = 1 * 2 *3 * ... * n\n",
    "\n",
    "- 팩토리얼을 구한 뒤, 결과값의 맨 마지막 자리에서 시작해서 처음으로 0이 아닌 숫자가 나올 때까지 0의 개수를 구하는 함수를 만드시오. 예: 80000300 => 2개\n",
    "    - 입력값= n\n",
    "    - 출력값= 결과값, 0 개수"
   ]
  },
  {
   "cell_type": "code",
   "execution_count": 13,
   "id": "af432e34-6160-43d9-a402-e12782aa0cb6",
   "metadata": {},
   "outputs": [],
   "source": [
    "def factorial(num):\n",
    "    i = 1\n",
    "    result = 1\n",
    "    while i <= num: #i+1이 num보다 작거나 같을 동안만! => i+1이 num보다 크면 중지\n",
    "        #곱하고\n",
    "        result *= i \n",
    "        #i에 1을 더해\n",
    "        i += 1\n",
    "    # 결과값 안을 거꾸로 순회하며 0\n",
    "    zero_count = [number for number in str(result)[::-1]]\n",
    "    cnt = 0\n",
    "    for i in zero_count:\n",
    "        if i == '0':\n",
    "            cnt += 1\n",
    "        else:\n",
    "            break\n",
    "    return f'결과값 : {result}, 0 개수는 {cnt}'"
   ]
  },
  {
   "cell_type": "code",
   "execution_count": 16,
   "id": "e6d3fe6f-000e-4cd9-a156-d2f11df12f7c",
   "metadata": {},
   "outputs": [
    {
     "data": {
      "text/plain": [
       "'결과값 : 295232799039604140847618609643520000000, 0 개수는 7'"
      ]
     },
     "execution_count": 16,
     "metadata": {},
     "output_type": "execute_result"
    }
   ],
   "source": [
    "factorial(34)"
   ]
  },
  {
   "cell_type": "markdown",
   "id": "680e634e-4454-4300-8532-6ce3f311d620",
   "metadata": {},
   "source": [
    "# 4,두 수의 최대공약수와 최소공배수를 구하는 함수를 짜시오. (함수를 각각 만들어서 활용해도 됨)\n",
    "\n",
    "- 공약수(common divisor)란 두 수 이상의 여러 수의 공통된 약수를 의미합니다. \n",
    "- 최대공약수(GCD)란 두 수 이상의 여러 수의 공약수 중 최대인 수를 가리킵니다.\n",
    "- 두 수의 최소공배수는 두 수에 서로 공통으로 존재하는 배수 중 가장 작은 수를 뜻합니다.\n",
    "\n",
    "### 힌트: 최소공배수 = (0이 아닌) 두 수의 곱 / 최대공약수\n",
    "\n"
   ]
  },
  {
   "cell_type": "code",
   "execution_count": 21,
   "id": "5b86a239-14b6-4fa6-8b77-81841f874168",
   "metadata": {},
   "outputs": [],
   "source": [
    "def gcd(a, b):\n",
    "    if a >= b:\n",
    "        max_num = a\n",
    "    else:\n",
    "        max_num = b\n",
    "    for i in range(max_num, 0, -1):\n",
    "        if a%i == 0 and b%i == 0:\n",
    "            result = i\n",
    "\n",
    "    return f'두 수의 최대공약수는 {result}입니다.'"
   ]
  },
  {
   "cell_type": "code",
   "execution_count": 22,
   "id": "1dec4a97-099f-42bf-88ac-9aa4ce4d20d1",
   "metadata": {},
   "outputs": [
    {
     "data": {
      "text/plain": [
       "'두 수의 최대공약수는 1입니다.'"
      ]
     },
     "execution_count": 22,
     "metadata": {},
     "output_type": "execute_result"
    }
   ],
   "source": [
    "gcd(14, 15)"
   ]
  },
  {
   "cell_type": "code",
   "execution_count": 29,
   "id": "d7cfb7c2-b5cc-4f89-86b8-1a4a236b7547",
   "metadata": {},
   "outputs": [],
   "source": [
    "def lcm(a, b):\n",
    "    global result_lcm\n",
    "    if a >= b:\n",
    "        min_num = b\n",
    "    else:\n",
    "        min_num = a\n",
    "        \n",
    "    for i in range(min_num, a*b+1):\n",
    "        if min_num % a == 0 and min_num % b == 0:\n",
    "            result_lcm = i\n",
    "        else:\n",
    "            result_lcm = a*b\n",
    "    return f'두 수의 최소공배수는 {result_lcm}입니다.'"
   ]
  },
  {
   "cell_type": "code",
   "execution_count": 31,
   "id": "9fd2beb4-d3cd-4428-ae90-1128579f8560",
   "metadata": {},
   "outputs": [
    {
     "data": {
      "text/plain": [
       "'두 수의 최소공배수는 40입니다.'"
      ]
     },
     "execution_count": 31,
     "metadata": {},
     "output_type": "execute_result"
    }
   ],
   "source": [
    "lcm(10, 4)"
   ]
  },
  {
   "cell_type": "code",
   "execution_count": 18,
   "id": "cb67e9a5-f079-45fe-abee-1489bcb96512",
   "metadata": {
    "jupyter": {
     "source_hidden": true
    },
    "tags": []
   },
   "outputs": [
    {
     "ename": "SyntaxError",
     "evalue": "invalid syntax (1182873867.py, line 19)",
     "output_type": "error",
     "traceback": [
      "\u001b[0;36m  File \u001b[0;32m\"/var/folders/6j/qj5mm9r12c13y043t6l3c88m0000gn/T/ipykernel_2307/1182873867.py\"\u001b[0;36m, line \u001b[0;32m19\u001b[0m\n\u001b[0;31m    while num != origin or cnt = 0:\u001b[0m\n\u001b[0m                               ^\u001b[0m\n\u001b[0;31mSyntaxError\u001b[0m\u001b[0;31m:\u001b[0m invalid syntax\n"
     ]
    }
   ],
   "source": [
    "'''def cnt_cycle(num):\n",
    "    original = num '''\n",
    "    # 만약 10보다 작은 수라면\n",
    "    # 앞자리 변수 / 뒷자리 변수 생성\n",
    "        # 앞자리에는 맨 뒤쪽의 수\n",
    "        # 뒷자리에는 각 자리 더한 수\n",
    "        # ㄴ 새로운 수 생성\n",
    "        # 카운트 1\n",
    "        #기존의 수랑 일치할 때 까지 반복\n",
    "            # 다만 카운트 0인 경우는 제외\n",
    "            \n",
    "\n",
    "        \n",
    "def cnt_cycle(num):\n",
    "    cnt = 0\n",
    "    origin = num\n",
    "    front = ''\n",
    "    back = ''\n",
    "    while num != origin or cnt = 0:\n",
    "        if num > 10:\n",
    "            front = 0\n",
    "        front = str(num[0])\n",
    "        back = str(num[1])\n",
    "        \n",
    "        if int(front) + int(back) < 10\n",
    "            aa = int(front) + int(back)\n",
    "            new_front = int(aa[1])\n",
    "        new_front = int(front) + int(back) # 두 자리 합\n",
    "        new_back = \n",
    "        cnt += 1\n",
    "        \n",
    "        \n",
    "\n",
    "# 26 -> 68 -> 84 -> 42 -> 6\n",
    "\n",
    "# 55 -> 50 -> 05 -> \n",
    "\n",
    "# 두 자리 합이 10을 넘는 경우\n",
    "# \n",
    "        \n",
    "        \n",
    "    \n",
    "            \n",
    "            \n",
    "        "
   ]
  },
  {
   "cell_type": "code",
   "execution_count": null,
   "id": "792b4b97-6a50-4a9e-97ba-87aaa51003d8",
   "metadata": {},
   "outputs": [],
   "source": []
  }
 ],
 "metadata": {
  "kernelspec": {
   "display_name": "Python 3 (ipykernel)",
   "language": "python",
   "name": "python3"
  },
  "language_info": {
   "codemirror_mode": {
    "name": "ipython",
    "version": 3
   },
   "file_extension": ".py",
   "mimetype": "text/x-python",
   "name": "python",
   "nbconvert_exporter": "python",
   "pygments_lexer": "ipython3",
   "version": "3.9.7"
  }
 },
 "nbformat": 4,
 "nbformat_minor": 5
}

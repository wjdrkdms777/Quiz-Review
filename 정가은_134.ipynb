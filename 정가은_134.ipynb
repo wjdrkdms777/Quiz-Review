{
 "cells": [
  {
   "cell_type": "markdown",
   "id": "82dc1792-cdc5-411d-8010-ffa8a1100ca0",
   "metadata": {},
   "source": [
    "# quiz 1 편의점 매출 계산하기\n",
    "- 총 매출 = (소비자 가격 - 원가) * 개수\n",
    "- 조건 : 5개 이상 구매 시 전체 물품의 15% 할인"
   ]
  },
  {
   "cell_type": "code",
   "execution_count": 2,
   "id": "fc0602c6-369c-4ebc-a709-1b9543c47ea5",
   "metadata": {},
   "outputs": [
    {
     "name": "stdin",
     "output_type": "stream",
     "text": [
      "비요뜨 몇 개 사시겠습니까 ? : 3\n",
      "삼각김밥 몇 개 사시겠습니까 ? : 5\n",
      "콜라 몇 개 사시겠습니까 ? : 6\n",
      "바나나 몇 개 사시겠습니까 ? : 2\n",
      "홈런볼 몇 개 사시겠습니까 ? : 4\n"
     ]
    },
    {
     "name": "stdout",
     "output_type": "stream",
     "text": [
      "총 17170.0원 입니다.\n"
     ]
    }
   ],
   "source": [
    "viyott = 820\n",
    "\n",
    "samgim = 1600\n",
    "\n",
    "coke = 420\n",
    "\n",
    "banana = 2150\n",
    "\n",
    "homerun = 730\n",
    "\n",
    "viyott_count = int(input(\"비요뜨 몇 개 사시겠습니까 ? :\"))\n",
    "samgim_count = int(input(\"삼각김밥 몇 개 사시겠습니까 ? :\"))\n",
    "coke_count = int(input(\"콜라 몇 개 사시겠습니까 ? :\"))\n",
    "banana_count = int(input(\"바나나 몇 개 사시겠습니까 ? :\"))\n",
    "homerun_count = int(input(\"홈런볼 몇 개 사시겠습니까 ? :\"))\n",
    " \n",
    "total_sales = (viyott * viyott_count) + (samgim * samgim_count) + (coke * coke_count) + (banana * banana_count) + (homerun * homerun_count)\n",
    "\n",
    "if (viyott_count + samgim_count + coke_count + banana_count + homerun_count) >= 5:\n",
    "    total_sales *= 0.85\n",
    "\n",
    "print(f'총 {total_sales}원 입니다.')"
   ]
  },
  {
   "cell_type": "markdown",
   "id": "b877149c-1302-40de-8895-8f3ff5021b71",
   "metadata": {},
   "source": [
    "# 달팽이 \n",
    "- 달팽이가 높이 350미터인 나무 막대를 올라감\n",
    "    - 낮에 5미터 올라간다\n",
    "    - 밤에는 2미터 미끄러진다\n",
    "    - 정상에 올라간 후에는 미끄러지지 않음\n",
    "  "
   ]
  },
  {
   "cell_type": "code",
   "execution_count": 7,
   "id": "5d9a4686-78f6-448e-9ca4-f2aaaed9dda9",
   "metadata": {},
   "outputs": [
    {
     "name": "stdout",
     "output_type": "stream",
     "text": [
      "달팽이가 정상에 올랐습니다! 총 117일 걸렸습니다. 현재 높이는 351입니다\n"
     ]
    }
   ],
   "source": [
    "#달팽이의 높이가 350m에 도달할 때 까지 반복\n",
    "\n",
    "snail_height = 0\n",
    "day = 0\n",
    "\n",
    "while snail_height <= 350:\n",
    "    snail_height += 5\n",
    "    day += 1\n",
    "    snail_height -= 2\n",
    "    #print(f'현재 달팽이의 높이는 {snail_height}m입니다') <- 높이 확인\n",
    "    \n",
    "print(f'달팽이가 정상에 올랐습니다! 총 {day}일 걸렸습니다. 현재 높이는 {snail_height}입니다')"
   ]
  },
  {
   "cell_type": "markdown",
   "id": "45beefa2-a63a-47bd-a1c1-63a74878cfdb",
   "metadata": {},
   "source": [
    "# 큰 수 찾기\n",
    "- 세 수를 입력받고 가장 큰 수를 찾는 코드를 작성."
   ]
  },
  {
   "cell_type": "code",
   "execution_count": 21,
   "id": "bd2514cb-9590-47bc-8c37-02810cbd7b45",
   "metadata": {},
   "outputs": [
    {
     "name": "stdin",
     "output_type": "stream",
     "text": [
      "첫 번째 수를 입력하세요 :  3\n",
      "두 번째 수를 입력하세요 :  2\n",
      "세 번째 수를 입력하세요 :  1\n"
     ]
    },
    {
     "name": "stdout",
     "output_type": "stream",
     "text": [
      "3이 가장 크네요!\n"
     ]
    }
   ],
   "source": [
    "num1 = int(input(\"첫 번째 수를 입력하세요 : \"))\n",
    "num2 = int(input(\"두 번째 수를 입력하세요 : \"))\n",
    "num3 = int(input(\"세 번째 수를 입력하세요 : \"))\n",
    "\n",
    "if num1 < num2:\n",
    "    if num2 < num3:\n",
    "        print(f'{num3}이 가장 크네요!')\n",
    "    elif num2 >= num3:\n",
    "        print(f'{num2}이 가장 크네요!')\n",
    "elif num1 == num2:\n",
    "    if num1 < num3:\n",
    "        print(f'{num3}이 가장 크네요!')\n",
    "    elif num1 >= num3:\n",
    "        print(f'{num1}이 가장 크네요!')\n",
    "elif num1 > num2:\n",
    "    if num1 > num3:\n",
    "        print(f'{num1}이 가장 크네요!')\n",
    "    elif num1 <= num3:\n",
    "        print(f'{num3}이 가장 크네요!')\n",
    "\n"
   ]
  },
  {
   "cell_type": "code",
   "execution_count": null,
   "id": "461f0596-9045-4bd1-97fc-ebfa70983faa",
   "metadata": {},
   "outputs": [],
   "source": []
  }
 ],
 "metadata": {
  "kernelspec": {
   "display_name": "Python 3 (ipykernel)",
   "language": "python",
   "name": "python3"
  },
  "language_info": {
   "codemirror_mode": {
    "name": "ipython",
    "version": 3
   },
   "file_extension": ".py",
   "mimetype": "text/x-python",
   "name": "python",
   "nbconvert_exporter": "python",
   "pygments_lexer": "ipython3",
   "version": "3.9.7"
  }
 },
 "nbformat": 4,
 "nbformat_minor": 5
}
